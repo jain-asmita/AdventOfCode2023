{
 "cells": [
  {
   "cell_type": "code",
   "execution_count": 187,
   "metadata": {},
   "outputs": [],
   "source": [
    "with open(\"Inputs/Day7.txt\", \"r\") as input:\n",
    "    input = input.read()\n",
    "\n",
    "input_list = input.split(\"\\n\")"
   ]
  },
  {
   "cell_type": "code",
   "execution_count": 188,
   "metadata": {},
   "outputs": [],
   "source": [
    "hands = []\n",
    "bids = []\n",
    "\n",
    "for line in input_list:\n",
    "    hands.append(line.split(\" \")[0])\n",
    "    bids.append(int(line.split(\" \")[1]))"
   ]
  },
  {
   "cell_type": "code",
   "execution_count": 189,
   "metadata": {},
   "outputs": [],
   "source": [
    "hand_lists = []\n",
    "hand_num_lists = []\n",
    "for hand in hands:\n",
    "    hand_list = [0] * 13\n",
    "    hand_num_list = []\n",
    "    for index, letter in enumerate(hand):\n",
    "        if letter == \"A\":\n",
    "            hand_list[0] += 1\n",
    "            hand_num_list.append(0)\n",
    "        elif letter == \"K\":\n",
    "            hand_list[1] += 1\n",
    "            hand_num_list.append(1)\n",
    "        elif letter == \"Q\":\n",
    "            hand_list[2] += 1\n",
    "            hand_num_list.append(2)\n",
    "        elif letter == \"J\":\n",
    "            hand_list[3] += 1\n",
    "            hand_num_list.append(3)\n",
    "        elif letter == \"T\":\n",
    "            hand_list[4] += 1\n",
    "            hand_num_list.append(4)\n",
    "        elif letter == \"9\":\n",
    "            hand_list[5] += 1\n",
    "            hand_num_list.append(5)\n",
    "        elif letter == \"8\":\n",
    "            hand_list[6] += 1\n",
    "            hand_num_list.append(6)\n",
    "        elif letter == \"7\":\n",
    "            hand_list[7] += 1\n",
    "            hand_num_list.append(7)\n",
    "        elif letter == \"6\":\n",
    "            hand_list[8] += 1\n",
    "            hand_num_list.append(8)\n",
    "        elif letter == \"5\":\n",
    "            hand_list[9] += 1\n",
    "            hand_num_list.append(9)\n",
    "        elif letter == \"4\":\n",
    "            hand_list[10] += 1\n",
    "            hand_num_list.append(10)\n",
    "        elif letter == \"3\":\n",
    "            hand_list[11] += 1\n",
    "            hand_num_list.append(11)\n",
    "        else:\n",
    "            hand_list[12] += 1\n",
    "            hand_num_list.append(12)\n",
    "    hand_lists.append(hand_list)\n",
    "    hand_num_lists.append(hand_num_list)"
   ]
  },
  {
   "cell_type": "code",
   "execution_count": 190,
   "metadata": {},
   "outputs": [
    {
     "data": {
      "text/plain": [
       "['32T3K', 'T55J5', 'KK677', 'KTJJT', 'QQQJA']"
      ]
     },
     "execution_count": 190,
     "metadata": {},
     "output_type": "execute_result"
    }
   ],
   "source": [
    "hands"
   ]
  },
  {
   "cell_type": "code",
   "execution_count": 191,
   "metadata": {},
   "outputs": [
    {
     "data": {
      "text/plain": [
       "[[0, 1, 0, 0, 1, 0, 0, 0, 0, 0, 0, 2, 1],\n",
       " [0, 0, 0, 1, 1, 0, 0, 0, 0, 3, 0, 0, 0],\n",
       " [0, 2, 0, 0, 0, 0, 0, 2, 1, 0, 0, 0, 0],\n",
       " [0, 1, 0, 2, 2, 0, 0, 0, 0, 0, 0, 0, 0],\n",
       " [1, 0, 3, 1, 0, 0, 0, 0, 0, 0, 0, 0, 0]]"
      ]
     },
     "execution_count": 191,
     "metadata": {},
     "output_type": "execute_result"
    }
   ],
   "source": [
    "hand_lists"
   ]
  },
  {
   "cell_type": "code",
   "execution_count": 192,
   "metadata": {},
   "outputs": [
    {
     "data": {
      "text/plain": [
       "[[11, 12, 4, 11, 1],\n",
       " [4, 9, 9, 3, 9],\n",
       " [1, 1, 8, 7, 7],\n",
       " [1, 4, 3, 3, 4],\n",
       " [2, 2, 2, 3, 0]]"
      ]
     },
     "execution_count": 192,
     "metadata": {},
     "output_type": "execute_result"
    }
   ],
   "source": [
    "hand_num_lists"
   ]
  },
  {
   "cell_type": "code",
   "execution_count": 193,
   "metadata": {},
   "outputs": [],
   "source": [
    "score_types = []\n",
    "for hand_list in hand_lists:\n",
    "    if max(hand_list) == 5:\n",
    "        score_types.append(0)\n",
    "    elif max(hand_list) == 4:\n",
    "        score_types.append(1)\n",
    "    elif max(hand_list) == 3 and len(set(hand_list)) == 2:\n",
    "        score_types.append(2)\n",
    "    elif max(hand_list) == 3:\n",
    "        score_types.append(3)\n",
    "    elif len(set(hand_list)) == 3 and max(hand_list) == 2:\n",
    "        score_types.append(4)\n",
    "    elif len(set(hand_list)) == 4:\n",
    "        score_types.append(5)\n",
    "    else:\n",
    "        score_types.append(6)"
   ]
  },
  {
   "cell_type": "code",
   "execution_count": 194,
   "metadata": {},
   "outputs": [
    {
     "data": {
      "text/plain": [
       "[4, 3, 4, 4, 3]"
      ]
     },
     "execution_count": 194,
     "metadata": {},
     "output_type": "execute_result"
    }
   ],
   "source": [
    "score_types"
   ]
  },
  {
   "cell_type": "code",
   "execution_count": 195,
   "metadata": {},
   "outputs": [],
   "source": [
    "from operator import add"
   ]
  },
  {
   "cell_type": "code",
   "execution_count": 196,
   "metadata": {},
   "outputs": [],
   "source": [
    "score_types = list(map(add, list(map(add, list(map(add, list(map(add, list(map(add, [i * 1e11 for i in score_types], [i[0] * 1e8 for i in hand_num_lists])), [i[1] * 1e6 for i in hand_num_lists])), [i[2] * 1e4 for i in hand_num_lists])), [i[3] * 1e2 for i in hand_num_lists])), [i[4] for i in hand_num_lists]))"
   ]
  },
  {
   "cell_type": "code",
   "execution_count": 197,
   "metadata": {},
   "outputs": [],
   "source": [
    "ranks = range(len(score_types), 0, -1)\n",
    "sorted_bids = [x for _,x in sorted(zip(score_types, bids))]"
   ]
  },
  {
   "cell_type": "code",
   "execution_count": 198,
   "metadata": {},
   "outputs": [
    {
     "data": {
      "text/plain": [
       "[483, 684, 28, 220, 765]"
      ]
     },
     "execution_count": 198,
     "metadata": {},
     "output_type": "execute_result"
    }
   ],
   "source": [
    "sorted_bids"
   ]
  },
  {
   "cell_type": "code",
   "execution_count": 199,
   "metadata": {},
   "outputs": [
    {
     "data": {
      "text/plain": [
       "[401112041101.0,\n",
       " 300409090309.0,\n",
       " 400101080707.0,\n",
       " 400104030304.0,\n",
       " 300202020300.0]"
      ]
     },
     "execution_count": 199,
     "metadata": {},
     "output_type": "execute_result"
    }
   ],
   "source": [
    "score_types"
   ]
  },
  {
   "cell_type": "code",
   "execution_count": 200,
   "metadata": {},
   "outputs": [
    {
     "data": {
      "text/plain": [
       "6440"
      ]
     },
     "execution_count": 200,
     "metadata": {},
     "output_type": "execute_result"
    }
   ],
   "source": [
    "pt1_answer = 0\n",
    "for i in range(0, len(score_types)):\n",
    "    pt1_answer += ranks[i] * sorted_bids[i]\n",
    "pt1_answer"
   ]
  },
  {
   "cell_type": "code",
   "execution_count": 201,
   "metadata": {},
   "outputs": [],
   "source": [
    "#247096205\n",
    "#247104434 too low\n",
    "#253904295 too high"
   ]
  },
  {
   "cell_type": "code",
   "execution_count": 202,
   "metadata": {},
   "outputs": [
    {
     "data": {
      "text/plain": [
       "5"
      ]
     },
     "execution_count": 202,
     "metadata": {},
     "output_type": "execute_result"
    }
   ],
   "source": [
    "len(set(ranks))"
   ]
  },
  {
   "cell_type": "code",
   "execution_count": 203,
   "metadata": {},
   "outputs": [
    {
     "data": {
      "text/plain": [
       "range(5, 0, -1)"
      ]
     },
     "execution_count": 203,
     "metadata": {},
     "output_type": "execute_result"
    }
   ],
   "source": [
    "ranks"
   ]
  },
  {
   "cell_type": "code",
   "execution_count": 204,
   "metadata": {},
   "outputs": [
    {
     "data": {
      "text/plain": [
       "[483, 684, 28, 220, 765]"
      ]
     },
     "execution_count": 204,
     "metadata": {},
     "output_type": "execute_result"
    }
   ],
   "source": [
    "sorted_bids"
   ]
  },
  {
   "cell_type": "code",
   "execution_count": null,
   "metadata": {},
   "outputs": [],
   "source": []
  }
 ],
 "metadata": {
  "kernelspec": {
   "display_name": "aoc",
   "language": "python",
   "name": "python3"
  },
  "language_info": {
   "codemirror_mode": {
    "name": "ipython",
    "version": 3
   },
   "file_extension": ".py",
   "mimetype": "text/x-python",
   "name": "python",
   "nbconvert_exporter": "python",
   "pygments_lexer": "ipython3",
   "version": "3.7.1"
  }
 },
 "nbformat": 4,
 "nbformat_minor": 2
}
