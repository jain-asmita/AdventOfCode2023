{
 "cells": [
  {
   "cell_type": "code",
   "execution_count": 18,
   "metadata": {},
   "outputs": [],
   "source": [
    "with open(\"Inputs/Day8.txt\", \"r\") as input:\n",
    "    input = input.read()\n",
    "\n",
    "input_list = input.split(\"\\n\")"
   ]
  },
  {
   "cell_type": "code",
   "execution_count": 19,
   "metadata": {},
   "outputs": [],
   "source": [
    "go_left = []\n",
    "the_map = {}\n",
    "\n",
    "section_num = 0\n",
    "start_nodes = set()\n",
    "\n",
    "for line in input_list:\n",
    "    if line == \"\":\n",
    "        section_num += 1\n",
    "    elif section_num == 0:\n",
    "        for index, letter in enumerate(line):\n",
    "            go_left.append(letter)\n",
    "    else:\n",
    "        key = line.split(\" = (\")[0]\n",
    "        left = line.split(\" = (\")[1].split(\", \")[0]\n",
    "        right = line.split(\" = (\")[1].split(\", \")[1].replace(\")\", \"\")\n",
    "        the_map.update({key: tuple([left, right])})\n",
    "        if key[-1] == \"A\":\n",
    "            start_nodes.add(key)"
   ]
  },
  {
   "cell_type": "code",
   "execution_count": 20,
   "metadata": {},
   "outputs": [
    {
     "name": "stdout",
     "output_type": "stream",
     "text": [
      "13019\n"
     ]
    }
   ],
   "source": [
    "start_instruction_num = 0\n",
    "node = \"AAA\"\n",
    "while(node != \"ZZZ\"):\n",
    "    next_instruction = go_left[start_instruction_num % (len(go_left))]\n",
    "    if next_instruction == \"L\":\n",
    "        next_instruction = 0\n",
    "    else:\n",
    "        next_instruction = 1\n",
    "    node = the_map[node][next_instruction]\n",
    "    start_instruction_num += 1\n",
    "print(start_instruction_num)"
   ]
  },
  {
   "cell_type": "code",
   "execution_count": 21,
   "metadata": {},
   "outputs": [],
   "source": [
    "start_nodes = list(start_nodes)"
   ]
  },
  {
   "cell_type": "code",
   "execution_count": 22,
   "metadata": {},
   "outputs": [],
   "source": [
    "current_nodes = start_nodes\n",
    "lengths = []\n",
    "\n",
    "for node in current_nodes:\n",
    "    start_instruction_num = 0\n",
    "    while(node[-1] != \"Z\"):\n",
    "        next_instruction = go_left[start_instruction_num % (len(go_left))]\n",
    "        if next_instruction == \"L\":\n",
    "            next_instruction = 0\n",
    "        else:\n",
    "            next_instruction = 1\n",
    "        node = the_map[node][next_instruction]\n",
    "        start_instruction_num += 1\n",
    "    lengths.append(start_instruction_num)\n"
   ]
  },
  {
   "cell_type": "code",
   "execution_count": 23,
   "metadata": {},
   "outputs": [
    {
     "data": {
      "text/plain": [
       "[19667, 11911, 13019, 21883, 16343, 20221]"
      ]
     },
     "execution_count": 23,
     "metadata": {},
     "output_type": "execute_result"
    }
   ],
   "source": [
    "lengths"
   ]
  },
  {
   "cell_type": "code",
   "execution_count": 24,
   "metadata": {},
   "outputs": [
    {
     "name": "stdout",
     "output_type": "stream",
     "text": [
      "13524038372771\n"
     ]
    }
   ],
   "source": [
    "from math import lcm\n",
    "curr_lcm = 1\n",
    "for i in lengths:\n",
    "    curr_lcm = math.lcm(curr_lcm, i)\n",
    "print(curr_lcm)"
   ]
  },
  {
   "cell_type": "code",
   "execution_count": null,
   "metadata": {},
   "outputs": [],
   "source": []
  }
 ],
 "metadata": {
  "kernelspec": {
   "display_name": "aoc",
   "language": "python",
   "name": "python3"
  },
  "language_info": {
   "codemirror_mode": {
    "name": "ipython",
    "version": 3
   },
   "file_extension": ".py",
   "mimetype": "text/x-python",
   "name": "python",
   "nbconvert_exporter": "python",
   "pygments_lexer": "ipython3",
   "version": "3.10.1"
  }
 },
 "nbformat": 4,
 "nbformat_minor": 2
}
