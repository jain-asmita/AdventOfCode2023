{
 "cells": [
  {
   "cell_type": "code",
   "execution_count": 10,
   "metadata": {},
   "outputs": [],
   "source": [
    "with open(\"Inputs/Day5.txt\", \"r\") as input:\n",
    "    input = input.read()\n",
    "\n",
    "input_list = input.split(\"\\n\")"
   ]
  },
  {
   "cell_type": "code",
   "execution_count": 11,
   "metadata": {},
   "outputs": [],
   "source": [
    "seeds = []\n",
    "seed_to_soil = []\n",
    "soil_to_fertilizer = []\n",
    "fertilizer_to_water = []\n",
    "water_to_light = []\n",
    "light_to_temperature = []\n",
    "temperature_to_humidity = []\n",
    "humidity_to_location = []\n",
    "\n",
    "section_num = 0\n",
    "for line in input_list:\n",
    "    if line != \"\":\n",
    "        if section_num == 0:\n",
    "            seeds = [int(i) for i in line.split(\"seeds: \")[1].split(\" \")]\n",
    "        elif section_num == 1 and \"map\" not in line:\n",
    "            line_split = line.split(\" \")\n",
    "            seed_to_soil.append({\"destinationStart\": int(line_split[0]), \"sourceStart\": int(line_split[1]), \"length\": (int(line_split[2]))})\n",
    "        elif section_num == 2 and \"map\" not in line:\n",
    "            line_split = line.split(\" \")\n",
    "            soil_to_fertilizer.append({\"destinationStart\": int(line_split[0]), \"sourceStart\": int(line_split[1]), \"length\": (int(line_split[2]))})\n",
    "        elif section_num == 3 and \"map\" not in line:\n",
    "            line_split = line.split(\" \")\n",
    "            fertilizer_to_water.append({\"destinationStart\": int(line_split[0]), \"sourceStart\": int(line_split[1]), \"length\": (int(line_split[2]))})\n",
    "        elif section_num == 4 and \"map\" not in line:\n",
    "            line_split = line.split(\" \")\n",
    "            water_to_light.append({\"destinationStart\": int(line_split[0]), \"sourceStart\": int(line_split[1]), \"length\": (int(line_split[2]))})\n",
    "        elif section_num == 5 and \"map\" not in line:\n",
    "            line_split = line.split(\" \")\n",
    "            light_to_temperature.append({\"destinationStart\": int(line_split[0]), \"sourceStart\": int(line_split[1]), \"length\": (int(line_split[2]))})\n",
    "        elif section_num == 6 and \"map\" not in line:\n",
    "            line_split = line.split(\" \")\n",
    "            temperature_to_humidity.append({\"destinationStart\": int(line_split[0]), \"sourceStart\": int(line_split[1]), \"length\": (int(line_split[2]))})\n",
    "        elif section_num == 7 and \"map\" not in line:\n",
    "            line_split = line.split(\" \")\n",
    "            humidity_to_location.append({\"destinationStart\": int(line_split[0]), \"sourceStart\": int(line_split[1]), \"length\": (int(line_split[2]))})\n",
    "    else:\n",
    "        section_num += 1\n",
    "        \n"
   ]
  },
  {
   "cell_type": "code",
   "execution_count": 12,
   "metadata": {},
   "outputs": [],
   "source": [
    "def findSource(destination, dict_list):\n",
    "    for dict in dict_list:\n",
    "        if destination in range(dict[\"sourceStart\"], dict[\"sourceStart\"] + dict[\"length\"]):\n",
    "            return dict[\"destinationStart\"] + (destination - dict[\"sourceStart\"])\n",
    "    return destination"
   ]
  },
  {
   "cell_type": "code",
   "execution_count": 13,
   "metadata": {},
   "outputs": [],
   "source": [
    "locations = []\n",
    "\n",
    "for seed in seeds:\n",
    "    soil = findSource(seed, seed_to_soil)\n",
    "    fertilizer = findSource(soil, soil_to_fertilizer)\n",
    "    water = findSource(fertilizer, fertilizer_to_water)\n",
    "    light = findSource(water, water_to_light)\n",
    "    temperature = findSource(light, light_to_temperature)\n",
    "    humidity = findSource(temperature, temperature_to_humidity)\n",
    "    location = findSource(humidity, humidity_to_location)\n",
    "    locations.append(location)\n",
    "\n",
    "    # print(\"seed: \" + str(seed))\n",
    "    # print(\"soil: \" + str(soil))\n",
    "    # print(\"fertilizer: \" + str(fertilizer))\n",
    "    # print(\"seed: \" + seed)\n",
    "    # print(\"seed: \" + seed)\n",
    "    # print(\"seed: \" + seed)\n",
    "    # print(\"seed: \" + seed)\n",
    "    # print(\"seed: \" + seed)\n",
    "    # print(\"seed: \" + seed)\n"
   ]
  },
  {
   "cell_type": "code",
   "execution_count": 14,
   "metadata": {},
   "outputs": [
    {
     "data": {
      "text/plain": [
       "35"
      ]
     },
     "execution_count": 14,
     "metadata": {},
     "output_type": "execute_result"
    }
   ],
   "source": [
    "part_1_answer = min(locations)\n",
    "part_1_answer"
   ]
  },
  {
   "cell_type": "code",
   "execution_count": 15,
   "metadata": {},
   "outputs": [],
   "source": [
    "switch = True\n",
    "seed_ranges = []\n",
    "val = 0\n",
    "for seed in seeds:\n",
    "    if switch:\n",
    "        val = seed\n",
    "        switch = not switch\n",
    "    else:\n",
    "        seed_ranges.append({\"start\": val, \"length\": seed})\n",
    "        switch = not switch"
   ]
  },
  {
   "cell_type": "code",
   "execution_count": 16,
   "metadata": {},
   "outputs": [
    {
     "data": {
      "text/plain": [
       "[{'start': 79, 'length': 14}, {'start': 55, 'length': 13}]"
      ]
     },
     "execution_count": 16,
     "metadata": {},
     "output_type": "execute_result"
    }
   ],
   "source": [
    "seed_ranges"
   ]
  },
  {
   "cell_type": "code",
   "execution_count": 17,
   "metadata": {},
   "outputs": [
    {
     "name": "stdout",
     "output_type": "stream",
     "text": [
      "{'start': 79, 'length': 14}\n",
      "{'start': 55, 'length': 13}\n"
     ]
    },
    {
     "data": {
      "text/plain": [
       "46"
      ]
     },
     "execution_count": 17,
     "metadata": {},
     "output_type": "execute_result"
    }
   ],
   "source": [
    "min_location = 1e16\n",
    "\n",
    "for seed_dict in seed_ranges:\n",
    "    print(seed_dict)\n",
    "    for seed in range(seed_dict[\"start\"], seed_dict[\"start\"] + seed_dict[\"length\"]):\n",
    "        soil = findSource(seed, seed_to_soil)\n",
    "        fertilizer = findSource(soil, soil_to_fertilizer)\n",
    "        water = findSource(fertilizer, fertilizer_to_water)\n",
    "        light = findSource(water, water_to_light)\n",
    "        temperature = findSource(light, light_to_temperature)\n",
    "        humidity = findSource(temperature, temperature_to_humidity)\n",
    "        location = findSource(humidity, humidity_to_location)\n",
    "        if location < min_location:\n",
    "            min_location = location\n",
    "min_location"
   ]
  },
  {
   "cell_type": "code",
   "execution_count": null,
   "metadata": {},
   "outputs": [],
   "source": [
    "def condense_ranges(dicts_a_to_b, dicts_b_to_c):\n",
    "    dicts_a_to_c = []\n",
    "    for dict_a_to_b in dicts_a_to_b:\n",
    "        # a source\n",
    "        for dict_b_to_c in dicts_b_to_c:\n",
    "            if dict_b_to_c[\"destinationStart\"] >= dict_a_to_b[\"sourceStart\"] and dict_b_to_c[\"destinationStart\"] <= dict_a_to_b[\"sourceStart\"] + dict_a_to_b[\"length\"]:\n",
    "                dicts_a_to_c.append({\"sourceStart\": dict_a_to_b[\"sourceStart\"], \"destinationStart\": dict_a_to_b[\"destinationStart\"], \"length\": dict_b_to_c[\"destinationStart\"] - dict_a_to_b[\"sourceStart\"]})\n",
    "                dicts_a_to_c.append({\"sourceStart\": dict_b_to_c[\"destinationStart\"], \"destinationStart\": dict_a_to_b[\"destinationStart\"], \"length\": dict_b_to_c[\"destinationStart\"] - dict_a_to_b[\"sourceStart\"]})\n"
   ]
  }
 ],
 "metadata": {
  "kernelspec": {
   "display_name": "aoc",
   "language": "python",
   "name": "python3"
  },
  "language_info": {
   "codemirror_mode": {
    "name": "ipython",
    "version": 3
   },
   "file_extension": ".py",
   "mimetype": "text/x-python",
   "name": "python",
   "nbconvert_exporter": "python",
   "pygments_lexer": "ipython3",
   "version": "3.7.1"
  }
 },
 "nbformat": 4,
 "nbformat_minor": 2
}
